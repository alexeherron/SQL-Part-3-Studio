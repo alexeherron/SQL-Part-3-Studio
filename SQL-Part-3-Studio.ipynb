{
    "metadata": {
        "kernelspec": {
            "name": "SQL",
            "display_name": "SQL",
            "language": "sql"
        },
        "language_info": {
            "name": "sql",
            "version": ""
        },
        "extensions": {
            "azuredatastudio": {
                "version": 1,
                "views": []
            }
        }
    },
    "nbformat_minor": 2,
    "nbformat": 4,
    "cells": [
        {
            "cell_type": "markdown",
            "source": [
                "# SQL Part 3 Studio\n",
                "\n",
                "### Let's practice your SQL quering skills!  For each question, work along in the notebook adding your query and answering the questions. \n",
                "\n",
                "### **DataSet**\n",
                "\n",
                "### <span style=\"font-size: 14px; font-family: -apple-system, BlinkMacSystemFont, sans-serif;\">We will be using the Goodbooks-10k dataset from the exercises in the prep work.&nbsp; Feel free reference your previous notebooks.</span>\n",
                "\n",
                "- The dataset can be found here: [goodbooks-10k](https://www.kaggle.com/zygmunt/goodbooks-10k)\n",
                "- You can access the **BooksDB** in the Launchcode server.\n",
                "\n",
                "### **Business Issue**\n",
                "\n",
                "You are an employee at a small independet bookstore and you have been tasked to increase sales.  You decide to use the BooksDB to find books and themes to highlight in fun promotions throughout each month / season.  We will be starting with March and then you will have a chance to explore another month of your choosing.  We want to come up with a list of events/ promotions to run each month.  If you are looking for ideas to include in your promotions:\n",
                "\n",
                "- [https://www.calendarr.com/united-states/calendar-2022/](https://www.calendarr.com/united-states/calendar-2022/)\n",
                "- [https://www.holidayinsights.com/moreholidays/](https://www.holidayinsights.com/moreholidays/)\n",
                "    - Click on a month and it will take you to a more detailed page"
            ],
            "metadata": {
                "azdata_cell_guid": "b9034d8a-b631-48bf-a895-1012a6ffa784"
            },
            "attachments": {}
        },
        {
            "cell_type": "markdown",
            "source": [
                "## Part 1:  March - Women's History Month, Dr Seuss Day(3/2), National Pie Day3/14, St Patrick's Day (3/17), Season - Spring"
            ],
            "metadata": {
                "azdata_cell_guid": "6e55eb1c-4a14-4076-90d2-95ed17a6309f"
            },
            "attachments": {}
        },
        {
            "cell_type": "markdown",
            "source": [
                "### **Event 1:** Women's History Month\n",
                "\n",
                "Goal: Highlight Popular Womans Authors based on ratings from the Good Reads DB.\n",
                "\n",
                "### **Write a query that returns tag\\_id, the number of times each tag\\_id is used and the tag\\_name.**  \n",
                "\n",
                "### Use the GROUP BY and HAVING clause to narrow your focus.\n",
                "\n",
                "Try multiple keywords, ie woman vs female (female ended up giving better results)"
            ],
            "metadata": {
                "azdata_cell_guid": "d220c097-e9cf-4edd-9abe-312d071217b7"
            },
            "attachments": {}
        },
        {
            "cell_type": "code",
            "source": [
                "-- Solution\r\n",
                "\r\n",
                "SELECT TOP(10) t.tag_id, t.tag_name, COUNT(t.tag_name) AS name_count\r\n",
                "FROM tags AS t\r\n",
                "INNER JOIN book_tags AS bt\r\n",
                "ON t.tag_id = bt.tag_id\r\n",
                "WHERE t.tag_name LIKE '%woman%' OR t.tag_name LIKE '%female%'\r\n",
                "GROUP BY t.tag_id, t.tag_name\r\n",
                "ORDER BY name_count DESC;\r\n",
                ""
            ],
            "metadata": {
                "azdata_cell_guid": "e31b9d26-0386-44c7-828e-85f4f06f3ee6",
                "language": "sql"
            },
            "outputs": [
                {
                    "output_type": "display_data",
                    "data": {
                        "text/html": "(10 rows affected)"
                    },
                    "metadata": {}
                },
                {
                    "output_type": "display_data",
                    "data": {
                        "text/html": "Total execution time: 00:00:00.238"
                    },
                    "metadata": {}
                },
                {
                    "output_type": "execute_result",
                    "metadata": {},
                    "execution_count": 32,
                    "data": {
                        "application/vnd.dataresource+json": {
                            "schema": {
                                "fields": [
                                    {
                                        "name": "tag_id"
                                    },
                                    {
                                        "name": "tag_name"
                                    },
                                    {
                                        "name": "name_count"
                                    }
                                ]
                            },
                            "data": [
                                {
                                    "0": "11643",
                                    "1": "female-author",
                                    "2": "997"
                                },
                                {
                                    "0": "11644",
                                    "1": "female-authors",
                                    "2": "721"
                                },
                                {
                                    "0": "11658",
                                    "1": "female-protagonist",
                                    "2": "171"
                                },
                                {
                                    "0": "11646",
                                    "1": "female-detective",
                                    "2": "32"
                                },
                                {
                                    "0": "11662",
                                    "1": "female-writers",
                                    "2": "18"
                                },
                                {
                                    "0": "11642",
                                    "1": "female",
                                    "2": "17"
                                },
                                {
                                    "0": "11656",
                                    "1": "female-pov",
                                    "2": "17"
                                },
                                {
                                    "0": "32681",
                                    "1": "woman-s-murder-club",
                                    "2": "14"
                                },
                                {
                                    "0": "11652",
                                    "1": "female-lead",
                                    "2": "14"
                                },
                                {
                                    "0": "3514",
                                    "1": "author-female",
                                    "2": "12"
                                }
                            ]
                        },
                        "text/html": [
                            "<table>",
                            "<tr><th>tag_id</th><th>tag_name</th><th>name_count</th></tr>",
                            "<tr><td>11643</td><td>female-author</td><td>997</td></tr>",
                            "<tr><td>11644</td><td>female-authors</td><td>721</td></tr>",
                            "<tr><td>11658</td><td>female-protagonist</td><td>171</td></tr>",
                            "<tr><td>11646</td><td>female-detective</td><td>32</td></tr>",
                            "<tr><td>11662</td><td>female-writers</td><td>18</td></tr>",
                            "<tr><td>11642</td><td>female</td><td>17</td></tr>",
                            "<tr><td>11656</td><td>female-pov</td><td>17</td></tr>",
                            "<tr><td>32681</td><td>woman-s-murder-club</td><td>14</td></tr>",
                            "<tr><td>11652</td><td>female-lead</td><td>14</td></tr>",
                            "<tr><td>3514</td><td>author-female</td><td>12</td></tr>",
                            "</table>"
                        ]
                    }
                }
            ],
            "execution_count": 32
        },
        {
            "cell_type": "markdown",
            "source": [
                "### **Which keyword(s) and tag(s) would you like to explore more?**\n",
                "\n",
                "Double click to edit.\n",
                "\n",
                "female-author 11643"
            ],
            "metadata": {
                "azdata_cell_guid": "e9acd8b5-a62b-4ac0-bd07-19915b379ba6"
            },
            "attachments": {}
        },
        {
            "cell_type": "markdown",
            "source": [
                "### **Write a query to return authors, titles, ratings and** **selected tag(s)\\_id.**"
            ],
            "metadata": {
                "azdata_cell_guid": "59b84464-c0bc-4dac-9e02-0c803765b063"
            },
            "attachments": {}
        },
        {
            "cell_type": "code",
            "source": [
                "-- Solution\r\n",
                "SELECT TOP(10) b.authors, b.title, b.average_rating, bt.tag_id\r\n",
                "FROM books AS b \r\n",
                "INNER JOIN book_tags AS bt \r\n",
                "ON b.best_book_id = bt.goodreads_book_id\r\n",
                "GROUP BY b.authors, b.title, b.average_rating, bt.tag_id\r\n",
                "HAVING bt.tag_id = 11643\r\n",
                "ORDER BY b.average_rating DESC;"
            ],
            "metadata": {
                "azdata_cell_guid": "51ffeaaf-6dde-4906-95f3-eb8757babf27",
                "tags": [],
                "language": "sql"
            },
            "outputs": [
                {
                    "output_type": "display_data",
                    "data": {
                        "text/html": "(10 rows affected)"
                    },
                    "metadata": {}
                },
                {
                    "output_type": "display_data",
                    "data": {
                        "text/html": "Total execution time: 00:00:00.144"
                    },
                    "metadata": {}
                },
                {
                    "output_type": "execute_result",
                    "metadata": {},
                    "execution_count": 34,
                    "data": {
                        "application/vnd.dataresource+json": {
                            "schema": {
                                "fields": [
                                    {
                                        "name": "authors"
                                    },
                                    {
                                        "name": "title"
                                    },
                                    {
                                        "name": "average_rating"
                                    },
                                    {
                                        "name": "tag_id"
                                    }
                                ]
                            },
                            "data": [
                                {
                                    "0": "J.K. Rowling, Mary GrandPré",
                                    "1": "The Harry Potter Collection 1-4 (Harry Potter, #1-4)",
                                    "2": "4.66",
                                    "3": "11643"
                                },
                                {
                                    "0": "Bisco Hatori",
                                    "1": "Ouran High School Host Club, Vol. 15 (Ouran High School Host Club, #15)",
                                    "2": "4.54",
                                    "3": "11643"
                                },
                                {
                                    "0": "Robin Hobb",
                                    "1": "Fool's Quest  (The Fitz and The Fool, #2)",
                                    "2": "4.53",
                                    "3": "11643"
                                },
                                {
                                    "0": "Michelle Alexander",
                                    "1": "The New Jim Crow: Mass Incarceration in the Age of Colorblindness",
                                    "2": "4.49",
                                    "3": "11643"
                                },
                                {
                                    "0": "Chimamanda Ngozi Adichie",
                                    "1": "We Should All Be Feminists",
                                    "2": "4.47",
                                    "3": "11643"
                                },
                                {
                                    "0": "Julia Donaldson, Axel Scheffler",
                                    "1": "The Gruffalo",
                                    "2": "4.47",
                                    "3": "11643"
                                },
                                {
                                    "0": "J.K. Rowling, Mary GrandPré",
                                    "1": "Harry Potter and the Order of the Phoenix (Harry Potter, #5)",
                                    "2": "4.46",
                                    "3": "11643"
                                },
                                {
                                    "0": "Flannery O'Connor",
                                    "1": "The Complete Stories",
                                    "2": "4.44",
                                    "3": "11643"
                                },
                                {
                                    "0": "Lois McMaster Bujold",
                                    "1": "A Civil Campaign (Vorkosigan Saga, #12)",
                                    "2": "4.43",
                                    "3": "11643"
                                },
                                {
                                    "0": "Yaa Gyasi",
                                    "1": "Homegoing",
                                    "2": "4.41",
                                    "3": "11643"
                                }
                            ]
                        },
                        "text/html": [
                            "<table>",
                            "<tr><th>authors</th><th>title</th><th>average_rating</th><th>tag_id</th></tr>",
                            "<tr><td>J.K. Rowling, Mary GrandPré</td><td>The Harry Potter Collection 1-4 (Harry Potter, #1-4)</td><td>4.66</td><td>11643</td></tr>",
                            "<tr><td>Bisco Hatori</td><td>Ouran High School Host Club, Vol. 15 (Ouran High School Host Club, #15)</td><td>4.54</td><td>11643</td></tr>",
                            "<tr><td>Robin Hobb</td><td>Fool's Quest  (The Fitz and The Fool, #2)</td><td>4.53</td><td>11643</td></tr>",
                            "<tr><td>Michelle Alexander</td><td>The New Jim Crow: Mass Incarceration in the Age of Colorblindness</td><td>4.49</td><td>11643</td></tr>",
                            "<tr><td>Chimamanda Ngozi Adichie</td><td>We Should All Be Feminists</td><td>4.47</td><td>11643</td></tr>",
                            "<tr><td>Julia Donaldson, Axel Scheffler</td><td>The Gruffalo</td><td>4.47</td><td>11643</td></tr>",
                            "<tr><td>J.K. Rowling, Mary GrandPré</td><td>Harry Potter and the Order of the Phoenix (Harry Potter, #5)</td><td>4.46</td><td>11643</td></tr>",
                            "<tr><td>Flannery O'Connor</td><td>The Complete Stories</td><td>4.44</td><td>11643</td></tr>",
                            "<tr><td>Lois McMaster Bujold</td><td>A Civil Campaign (Vorkosigan Saga, #12)</td><td>4.43</td><td>11643</td></tr>",
                            "<tr><td>Yaa Gyasi</td><td>Homegoing</td><td>4.41</td><td>11643</td></tr>",
                            "</table>"
                        ]
                    }
                }
            ],
            "execution_count": 34
        },
        {
            "cell_type": "markdown",
            "source": [
                "### **Record your thoughts about why you wrote the query the way you did.**\n",
                "\n",
                "**I wanted to make sure I got the female authors with the highest average rating.**"
            ],
            "metadata": {
                "azdata_cell_guid": "1e19a72c-1bca-446b-a0c7-a8efbc35dcf1"
            },
            "attachments": {}
        },
        {
            "cell_type": "markdown",
            "source": [
                "# Part 2: Choose Another Month\n",
                "\n",
                "Choose another month and plan at least 2 events / promotions and answer the following questions.\n",
                "\n",
                "Which month did you choose?  October\n",
                "\n",
                "What 2 events / promotions are you highlighting?\n",
                "\n",
                "> 1.  Halloween\n",
                "\n",
                "> 2.  Oktoberfest"
            ],
            "metadata": {
                "azdata_cell_guid": "3eaf376d-9de3-4553-a9d0-9caf74ee3d6a"
            },
            "attachments": {}
        },
        {
            "cell_type": "markdown",
            "source": [
                "# Part 3: Summarize your Work\n",
                "\n",
                "For each event write at least one query that joins any two tables in the BooksDB to support your choice and record you thoughts as to why you used the paticlular query. At least one of your queries needs to include a HAVING clause."
            ],
            "metadata": {
                "azdata_cell_guid": "1ba1363a-4f02-4962-a95a-93b80c5926b1"
            },
            "attachments": {}
        },
        {
            "cell_type": "code",
            "source": [
                "-- Event 1 Query\r\n",
                "SELECT TOP(100) t.tag_id, t.tag_name, COUNT(t.tag_name) AS name_count\r\n",
                "FROM tags AS t \r\n",
                "INNER JOIN book_tags AS bt \r\n",
                "ON t.tag_id = bt.tag_id\r\n",
                "GROUP BY t.tag_id, t.tag_name\r\n",
                "HAVING tag_name LIKE '%halloween%' OR tag_name LIKE '%spooky%'\r\n",
                "ORDER BY name_count DESC;"
            ],
            "metadata": {
                "azdata_cell_guid": "f50d32ce-4cb2-4af2-acb1-607777a76cf8",
                "language": "sql"
            },
            "outputs": [
                {
                    "output_type": "display_data",
                    "data": {
                        "text/html": "(10 rows affected)"
                    },
                    "metadata": {}
                },
                {
                    "output_type": "display_data",
                    "data": {
                        "text/html": "Total execution time: 00:00:00.288"
                    },
                    "metadata": {}
                },
                {
                    "output_type": "execute_result",
                    "metadata": {},
                    "execution_count": 36,
                    "data": {
                        "application/vnd.dataresource+json": {
                            "schema": {
                                "fields": [
                                    {
                                        "name": "tag_id"
                                    },
                                    {
                                        "name": "tag_name"
                                    },
                                    {
                                        "name": "name_count"
                                    }
                                ]
                            },
                            "data": [
                                {
                                    "0": "28415",
                                    "1": "spooky",
                                    "2": "88"
                                },
                                {
                                    "0": "13873",
                                    "1": "halloween",
                                    "2": "63"
                                },
                                {
                                    "0": "13876",
                                    "1": "halloween-reads",
                                    "2": "6"
                                },
                                {
                                    "0": "13874",
                                    "1": "halloween-books",
                                    "2": "2"
                                },
                                {
                                    "0": "13875",
                                    "1": "halloween-reading",
                                    "2": "1"
                                },
                                {
                                    "0": "13877",
                                    "1": "halloween-storytime",
                                    "2": "1"
                                },
                                {
                                    "0": "14698",
                                    "1": "holiday-halloween",
                                    "2": "1"
                                },
                                {
                                    "0": "14849",
                                    "1": "horror-spooky",
                                    "2": "1"
                                },
                                {
                                    "0": "28416",
                                    "1": "spooky-reads-for-halloween",
                                    "2": "1"
                                },
                                {
                                    "0": "14706",
                                    "1": "holidays-halloween",
                                    "2": "1"
                                }
                            ]
                        },
                        "text/html": [
                            "<table>",
                            "<tr><th>tag_id</th><th>tag_name</th><th>name_count</th></tr>",
                            "<tr><td>28415</td><td>spooky</td><td>88</td></tr>",
                            "<tr><td>13873</td><td>halloween</td><td>63</td></tr>",
                            "<tr><td>13876</td><td>halloween-reads</td><td>6</td></tr>",
                            "<tr><td>13874</td><td>halloween-books</td><td>2</td></tr>",
                            "<tr><td>13875</td><td>halloween-reading</td><td>1</td></tr>",
                            "<tr><td>13877</td><td>halloween-storytime</td><td>1</td></tr>",
                            "<tr><td>14698</td><td>holiday-halloween</td><td>1</td></tr>",
                            "<tr><td>14849</td><td>horror-spooky</td><td>1</td></tr>",
                            "<tr><td>28416</td><td>spooky-reads-for-halloween</td><td>1</td></tr>",
                            "<tr><td>14706</td><td>holidays-halloween</td><td>1</td></tr>",
                            "</table>"
                        ]
                    }
                }
            ],
            "execution_count": 36
        },
        {
            "cell_type": "code",
            "source": [
                "-- SPOOKY, PLEASE!\r\n",
                "SELECT TOP(10) b.authors, b.title, b.average_rating, bt.tag_id\r\n",
                "FROM books AS b \r\n",
                "INNER JOIN book_tags AS bt \r\n",
                "ON b.best_book_id = bt.goodreads_book_id\r\n",
                "GROUP BY b.authors, b.title, b.average_rating, bt.tag_id\r\n",
                "HAVING bt.tag_id = 28415\r\n",
                "ORDER BY b.average_rating DESC;"
            ],
            "metadata": {
                "azdata_cell_guid": "5606f7f2-c46b-42d3-ac64-7ae21c3394f8",
                "language": "sql"
            },
            "outputs": [
                {
                    "output_type": "display_data",
                    "data": {
                        "text/html": "(10 rows affected)"
                    },
                    "metadata": {}
                },
                {
                    "output_type": "display_data",
                    "data": {
                        "text/html": "Total execution time: 00:00:00.145"
                    },
                    "metadata": {}
                },
                {
                    "output_type": "execute_result",
                    "metadata": {},
                    "execution_count": 6,
                    "data": {
                        "application/vnd.dataresource+json": {
                            "schema": {
                                "fields": [
                                    {
                                        "name": "authors"
                                    },
                                    {
                                        "name": "title"
                                    },
                                    {
                                        "name": "average_rating"
                                    },
                                    {
                                        "name": "tag_id"
                                    }
                                ]
                            },
                            "data": [
                                {
                                    "0": "Edgar Allan Poe",
                                    "1": "The Complete Stories and Poems",
                                    "2": "4.37",
                                    "3": "28415"
                                },
                                {
                                    "0": "Edgar Allan Poe, Benjamin F. Fisher",
                                    "1": "Essential Tales and Poems",
                                    "2": "4.35",
                                    "3": "28415"
                                },
                                {
                                    "0": "H.P. Lovecraft",
                                    "1": "The Complete Works of H.P. Lovecraft",
                                    "2": "4.34",
                                    "3": "28415"
                                },
                                {
                                    "0": "H.P. Lovecraft, August Derleth, Robert Bloch",
                                    "1": "The Best of H.P. Lovecraft: Bloodcurdling Tales of Horror and the Macabre",
                                    "2": "4.31",
                                    "3": "28415"
                                },
                                {
                                    "0": "H.P. Lovecraft, S.T. Joshi",
                                    "1": "The Call of Cthulhu and Other Weird Stories",
                                    "2": "4.25",
                                    "3": "28415"
                                },
                                {
                                    "0": "Stephen King, Jerry N. Uelsmann",
                                    "1": "'Salem's Lot",
                                    "2": "4.25",
                                    "3": "28415"
                                },
                                {
                                    "0": "Edgar Allan Poe, Byron Glaser, Bill D. Fountain",
                                    "1": "The Tell-Tale Heart",
                                    "2": "4.22",
                                    "3": "28415"
                                },
                                {
                                    "0": "Mary Downing Hahn",
                                    "1": "Deep and Dark and Dangerous (A Ghost Story)",
                                    "2": "4.22",
                                    "3": "28415"
                                },
                                {
                                    "0": "Jonathan Stroud",
                                    "1": "The Screaming Staircase (Lockwood & Co., #1)",
                                    "2": "4.19",
                                    "3": "28415"
                                },
                                {
                                    "0": "Stephen King",
                                    "1": "The Shining (The Shining #1)",
                                    "2": "4.17",
                                    "3": "28415"
                                }
                            ]
                        },
                        "text/html": [
                            "<table>",
                            "<tr><th>authors</th><th>title</th><th>average_rating</th><th>tag_id</th></tr>",
                            "<tr><td>Edgar Allan Poe</td><td>The Complete Stories and Poems</td><td>4.37</td><td>28415</td></tr>",
                            "<tr><td>Edgar Allan Poe, Benjamin F. Fisher</td><td>Essential Tales and Poems</td><td>4.35</td><td>28415</td></tr>",
                            "<tr><td>H.P. Lovecraft</td><td>The Complete Works of H.P. Lovecraft</td><td>4.34</td><td>28415</td></tr>",
                            "<tr><td>H.P. Lovecraft, August Derleth, Robert Bloch</td><td>The Best of H.P. Lovecraft: Bloodcurdling Tales of Horror and the Macabre</td><td>4.31</td><td>28415</td></tr>",
                            "<tr><td>H.P. Lovecraft, S.T. Joshi</td><td>The Call of Cthulhu and Other Weird Stories</td><td>4.25</td><td>28415</td></tr>",
                            "<tr><td>Stephen King, Jerry N. Uelsmann</td><td>'Salem's Lot</td><td>4.25</td><td>28415</td></tr>",
                            "<tr><td>Edgar Allan Poe, Byron Glaser, Bill D. Fountain</td><td>The Tell-Tale Heart</td><td>4.22</td><td>28415</td></tr>",
                            "<tr><td>Mary Downing Hahn</td><td>Deep and Dark and Dangerous (A Ghost Story)</td><td>4.22</td><td>28415</td></tr>",
                            "<tr><td>Jonathan Stroud</td><td>The Screaming Staircase (Lockwood &amp; Co., #1)</td><td>4.19</td><td>28415</td></tr>",
                            "<tr><td>Stephen King</td><td>The Shining (The Shining #1)</td><td>4.17</td><td>28415</td></tr>",
                            "</table>"
                        ]
                    }
                }
            ],
            "execution_count": 6
        },
        {
            "cell_type": "markdown",
            "source": [
                "### **Summary of event 1:**\n",
                "\n",
                "Double Click to edit.\n",
                "\n",
                "If you're looking for a SPOOKY time this October, reach for Edgar Allan Poe, H.P. Lovecraft, and Stephen King."
            ],
            "metadata": {
                "azdata_cell_guid": "3bc72d4c-077b-42d3-9528-9aff8e7b6cf3"
            },
            "attachments": {}
        },
        {
            "cell_type": "code",
            "source": [
                "-- Event 2 Query\r\n",
                "SELECT TOP(100) t.tag_id, t.tag_name, COUNT(t.tag_name) AS name_count\r\n",
                "FROM tags AS t \r\n",
                "INNER JOIN book_tags AS bt \r\n",
                "ON t.tag_id = bt.tag_id\r\n",
                "GROUP BY t.tag_id, bt.count,t.tag_name\r\n",
                "HAVING tag_name LIKE '%oktoberfest%' OR tag_name LIKE '%beer%'\r\n",
                "ORDER BY name_count DESC;"
            ],
            "metadata": {
                "azdata_cell_guid": "dca0a98f-065f-4b0e-9d93-fcb01cad668c",
                "language": "sql"
            },
            "outputs": [
                {
                    "output_type": "display_data",
                    "data": {
                        "text/html": "(1 row affected)"
                    },
                    "metadata": {}
                },
                {
                    "output_type": "display_data",
                    "data": {
                        "text/html": "Total execution time: 00:00:01.071"
                    },
                    "metadata": {}
                },
                {
                    "output_type": "execute_result",
                    "metadata": {},
                    "execution_count": 37,
                    "data": {
                        "application/vnd.dataresource+json": {
                            "schema": {
                                "fields": [
                                    {
                                        "name": "tag_id"
                                    },
                                    {
                                        "name": "tag_name"
                                    },
                                    {
                                        "name": "name_count"
                                    }
                                ]
                            },
                            "data": [
                                {
                                    "0": "4156",
                                    "1": "beer",
                                    "2": "1"
                                }
                            ]
                        },
                        "text/html": [
                            "<table>",
                            "<tr><th>tag_id</th><th>tag_name</th><th>name_count</th></tr>",
                            "<tr><td>4156</td><td>beer</td><td>1</td></tr>",
                            "</table>"
                        ]
                    }
                }
            ],
            "execution_count": 37
        },
        {
            "cell_type": "code",
            "source": [
                "-- I'm kind of sad there weren't any Oktoberfest tags, but ok.\r\n",
                "SELECT TOP(10) b.authors, b.title, b.average_rating, bt.tag_id\r\n",
                "FROM books AS b \r\n",
                "INNER JOIN book_tags AS bt \r\n",
                "ON b.best_book_id = bt.goodreads_book_id\r\n",
                "GROUP BY b.authors, b.title, b.average_rating, bt.tag_id\r\n",
                "HAVING bt.tag_id = 4156\r\n",
                "ORDER BY b.average_rating DESC;"
            ],
            "metadata": {
                "azdata_cell_guid": "3aaae3a8-eff7-4b37-8970-2d913a67239b",
                "language": "sql"
            },
            "outputs": [
                {
                    "output_type": "display_data",
                    "data": {
                        "text/html": "(1 row affected)"
                    },
                    "metadata": {}
                },
                {
                    "output_type": "display_data",
                    "data": {
                        "text/html": "Total execution time: 00:00:00.126"
                    },
                    "metadata": {}
                },
                {
                    "output_type": "execute_result",
                    "metadata": {},
                    "execution_count": 38,
                    "data": {
                        "application/vnd.dataresource+json": {
                            "schema": {
                                "fields": [
                                    {
                                        "name": "authors"
                                    },
                                    {
                                        "name": "title"
                                    },
                                    {
                                        "name": "average_rating"
                                    },
                                    {
                                        "name": "tag_id"
                                    }
                                ]
                            },
                            "data": [
                                {
                                    "0": "Tom Standage",
                                    "1": "A History of the World in 6 Glasses",
                                    "2": "3.74",
                                    "3": "4156"
                                }
                            ]
                        },
                        "text/html": [
                            "<table>",
                            "<tr><th>authors</th><th>title</th><th>average_rating</th><th>tag_id</th></tr>",
                            "<tr><td>Tom Standage</td><td>A History of the World in 6 Glasses</td><td>3.74</td><td>4156</td></tr>",
                            "</table>"
                        ]
                    }
                }
            ],
            "execution_count": 38
        },
        {
            "cell_type": "markdown",
            "source": [
                "### **Summary of event 2:**\n",
                "\n",
                "Double Click to edit.\n",
                "\n",
                "Ok, maybe we shouldn't celebrate Oktoberfest in the library. There was only one tag and only one book..."
            ],
            "metadata": {
                "azdata_cell_guid": "99d518dc-cd8b-42d6-9a9d-708771c9aa99"
            },
            "attachments": {}
        }
    ]
}